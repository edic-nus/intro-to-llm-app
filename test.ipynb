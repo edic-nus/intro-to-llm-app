{
 "cells": [
  {
   "cell_type": "markdown",
   "metadata": {},
   "source": [
    "## Setting up gemini\n",
    "\n",
    "https://ai.google.dev/\n",
    "\n",
    "https://aistudio.google.com/app/apikey\n"
   ]
  },
  {
   "cell_type": "code",
   "execution_count": 1,
   "metadata": {},
   "outputs": [
    {
     "name": "stderr",
     "output_type": "stream",
     "text": [
      "/Users/yuuki/Documents/Github/Workshop/intro-to-llm-app/demo/.venv/lib/python3.10/site-packages/tqdm/auto.py:21: TqdmWarning: IProgress not found. Please update jupyter and ipywidgets. See https://ipywidgets.readthedocs.io/en/stable/user_install.html\n",
      "  from .autonotebook import tqdm as notebook_tqdm\n"
     ]
    }
   ],
   "source": [
    "import google.generativeai as genai\n",
    "\n",
    "genai.configure(api_key=\"\")\n",
    "model = genai.GenerativeModel('gemini-pro')"
   ]
  },
  {
   "cell_type": "code",
   "execution_count": null,
   "metadata": {},
   "outputs": [],
   "source": [
    "response = model.generate_content(\"Can you say hello?\")\n",
    "print(response.parts)"
   ]
  },
  {
   "cell_type": "markdown",
   "metadata": {},
   "source": [
    "## Build basic Chat processing interface"
   ]
  },
  {
   "cell_type": "code",
   "execution_count": null,
   "metadata": {},
   "outputs": [],
   "source": [
    "import gradio as gr"
   ]
  },
  {
   "cell_type": "code",
   "execution_count": null,
   "metadata": {},
   "outputs": [],
   "source": [
    "test = \"\"\"\n",
    "Subject: Recap of Expenses from Our Recent Party\n",
    "\n",
    "I hope this email finds you well. I wanted to take a moment to thank you for joining us at the party last week. It was fantastic having you there, and your presence truly added to the fun atmosphere!\n",
    "\n",
    "I've gone through the expenses from the party, and I wanted to provide you with a breakdown of the costs incurred. Here are the five main items along with their respective costs:\n",
    "\n",
    "Chips: $20\n",
    "Coca-cola: $50\n",
    "Pepsi: $40\n",
    "Pretzel: $40\n",
    "Popcorn: $60\n",
    "\n",
    "Since we both participated in the event, I thought it would be helpful to share these details with you.\n",
    "\n",
    "If you have any questions or concerns about the expenses, please don't hesitate to reach out. I believe in transparency when it comes to sharing costs, and I want to ensure that everything is clear and accounted for.\n",
    "\n",
    "Once again, thank you for being a part of the celebration. I had a wonderful time, and I hope you did too!\n",
    "\n",
    "Looking forward to hearing from you soon.\n",
    "\n",
    "Best regards,\n",
    "\n",
    "Alice\n",
    "\"\"\""
   ]
  },
  {
   "cell_type": "code",
   "execution_count": null,
   "metadata": {},
   "outputs": [],
   "source": [
    "def extract(inp):\n",
    "  prompt = f\"\"\"\n",
    "  You are an efficient accountant assistant.\n",
    "  Your job is to read the input text list out the item in the test with the following csv format\n",
    "\n",
    "  item-name,cost\n",
    "\n",
    "  Here is the INPUT:\n",
    "\n",
    "  {inp}\n",
    "\n",
    "  OUTPUT:\n",
    "  \"\"\"\n",
    "\n",
    "  response = model.generate_content(prompt)\n",
    "  return response.text"
   ]
  },
  {
   "cell_type": "code",
   "execution_count": null,
   "metadata": {},
   "outputs": [],
   "source": [
    "def save_to_csv(text):\n",
    "  filename = \"result.csv\"\n",
    "  lines = [line.strip() for line in text.split(\"\\n\") if line.strip()]\n",
    "  with open(filename, 'w') as csvfile:\n",
    "    for line in lines:\n",
    "      csvfile.write(line + \"\\n\")\n",
    "    csvfile.close()"
   ]
  },
  {
   "cell_type": "code",
   "execution_count": null,
   "metadata": {},
   "outputs": [],
   "source": [
    "with gr.Blocks() as demo:\n",
    "  inp = gr.Textbox(value=test)\n",
    "  out = gr.Textbox(label=\"Output\")\n",
    "  with gr.Row():\n",
    "    run_btn = gr.Button(\"Run\")\n",
    "    save_btn = gr.Button(\"Save\")\n",
    "  run_btn.click(fn=extract, inputs=inp, outputs=out)\n",
    "  save_btn.click(fn=save_to_csv, inputs=out)\n",
    "  print(out.value)\n",
    "\n",
    "demo.launch()"
   ]
  },
  {
   "cell_type": "markdown",
   "metadata": {},
   "source": [
    "## Chaining of agent"
   ]
  },
  {
   "cell_type": "code",
   "execution_count": null,
   "metadata": {},
   "outputs": [],
   "source": [
    "def extract_agent(inp):\n",
    "  prompt = f\"\"\"\n",
    "  You are an efficient accountant assistant.\n",
    "  Your job is to read the input text list out the item in the test with the following csv format\n",
    "\n",
    "  item-name,cost\n",
    "\n",
    "  Represent the cost as pure number, with no extra symbol.\n",
    "\n",
    "  Here is the INPUT:\n",
    "\n",
    "  {inp}\n",
    "\n",
    "  OUTPUT:\n",
    "  \"\"\"\n",
    "\n",
    "  response = model.generate_content(prompt)\n",
    "  return response.text"
   ]
  },
  {
   "cell_type": "code",
   "execution_count": null,
   "metadata": {},
   "outputs": [],
   "source": [
    "def classify_agent(inp):\n",
    "  prompt = f\"\"\"\n",
    "  You are an efficient classifier assistant.\n",
    "  There are two classification categories: \"drink\" and \"snack\".\n",
    "  Classsify the following input into this csv format:\n",
    "\n",
    "  category, item-name, cost\n",
    "\n",
    "  Here is the INPUT:\n",
    "\n",
    "  {inp}\n",
    "\n",
    "  OUTPUT:\n",
    "  \"\"\"\n",
    "\n",
    "  response = model.generate_content(prompt)\n",
    "  return response.text"
   ]
  },
  {
   "cell_type": "code",
   "execution_count": null,
   "metadata": {},
   "outputs": [],
   "source": [
    "def summarize_agent(inp):\n",
    "  prompt = f\"\"\"\n",
    "  You are an efficient summarizer.\n",
    "  Your task is to sum up the total cost of every entry of the same category of the following input.\n",
    "  The input will has the following format:\n",
    "\n",
    "  category, item-name, cost\n",
    "\n",
    "  Return the ouput as follow:\n",
    "\n",
    "  category, total-cost\n",
    "\n",
    "  Here is the INPUT:\n",
    "\n",
    "  {inp}\n",
    "\n",
    "  OUTPUT:\n",
    "  \"\"\"\n",
    "\n",
    "  response = model.generate_content(prompt)\n",
    "  return response.text"
   ]
  },
  {
   "cell_type": "code",
   "execution_count": null,
   "metadata": {},
   "outputs": [],
   "source": [
    "def agent_chain(text):\n",
    "  extract = extract_agent(text)\n",
    "  print(f\"Extract: \\n {extract} \\n\")\n",
    "  classify = classify_agent(extract)\n",
    "  print(f\"Classify: \\n {classify} \\n\")\n",
    "  summarize = summarize_agent(classify)\n",
    "\n",
    "  return summarize"
   ]
  },
  {
   "cell_type": "code",
   "execution_count": null,
   "metadata": {},
   "outputs": [],
   "source": [
    "import pandas as pd\n",
    "\n",
    "def plot(inp):\n",
    "  frame = {\n",
    "    \"Category\": [],\n",
    "    \"Total cost ($)\": []\n",
    "  }\n",
    "\n",
    "  for line in inp.strip().split(\"\\n\"):\n",
    "    [cat, cost] = line.strip().split(\",\")\n",
    "    frame[\"Category\"].append(cat.strip())\n",
    "    frame[\"Total cost ($)\"].append(cost.strip())\n",
    "\n",
    "  print(frame)\n",
    "\n",
    "  return  gr.BarPlot(\n",
    "    pd.DataFrame(frame),\n",
    "    x=\"Category\",\n",
    "    y=\"Total cost ($)\",\n",
    "    title=\"Breakdown of party cost\",\n",
    "    min_width=300\n",
    "  )\n",
    "      \n",
    "  "
   ]
  },
  {
   "cell_type": "code",
   "execution_count": null,
   "metadata": {},
   "outputs": [],
   "source": [
    "with gr.Blocks() as demo:\n",
    "  inp = gr.Textbox(value=test)\n",
    "  out = gr.Textbox(label=\"Output\")\n",
    "  with gr.Row():\n",
    "    run_btn = gr.Button(\"Run\")\n",
    "    save_btn = gr.Button(\"Save\")\n",
    "    plot_btn = gr.Button(\"Plot\")\n",
    "  plt = gr.BarPlot()\n",
    "\n",
    "  run_btn.click(fn=agent_chain, inputs=inp, outputs=out)\n",
    "  save_btn.click(fn=save_to_csv, inputs=out)\n",
    "  plot_btn.click(fn=plot, inputs=out, outputs=plt)\n",
    "  print(out.value)\n",
    "\n",
    "demo.launch()"
   ]
  }
 ],
 "metadata": {
  "kernelspec": {
   "display_name": "nanogpt",
   "language": "python",
   "name": "python3"
  },
  "language_info": {
   "codemirror_mode": {
    "name": "ipython",
    "version": 3
   },
   "file_extension": ".py",
   "mimetype": "text/x-python",
   "name": "python",
   "nbconvert_exporter": "python",
   "pygments_lexer": "ipython3",
   "version": "3.10.12"
  }
 },
 "nbformat": 4,
 "nbformat_minor": 2
}
